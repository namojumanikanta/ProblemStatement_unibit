{
 "cells": [
  {
   "cell_type": "code",
   "execution_count": 11,
   "id": "f26e1830",
   "metadata": {},
   "outputs": [
    {
     "name": "stdout",
     "output_type": "stream",
     "text": [
      "First Combination For 4 : [[1, 3], [2, 2], [-4, 8]]\n",
      "Merge Into a single Array: [-6, -4, -2, 1, 2, 2, 3, 8]\n",
      "8\n",
      "First Combination For 8 : []\n"
     ]
    }
   ],
   "source": [
    "def find_pairs(nums, target):\n",
    "    pairs = []\n",
    "    for i in range(len(nums)):\n",
    "        for j in range(i + 1, len(nums)):\n",
    "            if nums[i] + nums[j] == target:\n",
    "                pairs.append([nums[i], nums[j]])\n",
    "    return pairs\n",
    "\n",
    "# finding first combination\n",
    "nums = [1, 3, 2, 2, -4, -6, -2, 8]\n",
    "target = 4\n",
    "pairs = find_pairs(nums, target)\n",
    "print(f\"First Combination For {target} : {pairs}\")\n",
    "\n",
    "# merging the arrays \n",
    "merged_array = sorted(nums)\n",
    "print(\"Merge Into a single Array:\", merged_array)\n",
    "\n",
    "# Doubling the Target\n",
    "\n",
    "doubled_target = target * 2\n",
    "\n",
    "#Fnding second combination\n",
    "second_combination = find_pairs(merged_array, doubled_target)\n",
    "print(f\"First Combination For {doubled_target} : {second_combination}\")\n",
    "\n",
    "            "
   ]
  },
  {
   "cell_type": "code",
   "execution_count": null,
   "id": "cde121ca",
   "metadata": {},
   "outputs": [],
   "source": []
  },
  {
   "cell_type": "code",
   "execution_count": null,
   "id": "78a91725",
   "metadata": {},
   "outputs": [],
   "source": []
  }
 ],
 "metadata": {
  "kernelspec": {
   "display_name": "Python 3 (ipykernel)",
   "language": "python",
   "name": "python3"
  },
  "language_info": {
   "codemirror_mode": {
    "name": "ipython",
    "version": 3
   },
   "file_extension": ".py",
   "mimetype": "text/x-python",
   "name": "python",
   "nbconvert_exporter": "python",
   "pygments_lexer": "ipython3",
   "version": "3.9.12"
  }
 },
 "nbformat": 4,
 "nbformat_minor": 5
}
